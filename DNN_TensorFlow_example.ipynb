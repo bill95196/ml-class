{
  "cells": [
    {
      "cell_type": "markdown",
      "metadata": {
        "id": "0IDpTj3R2War"
      },
      "source": [
        "# Derived from Geron 11_deep_learning.ipynb"
      ]
    },
    {
      "cell_type": "markdown",
      "metadata": {
        "id": "n0VTrSvDJlis"
      },
      "source": [
        "We will provide a quick introduction into programming with TensorFlow.\n",
        "\n",
        "We revist our old friend, MNIST digit classification and provide a solution using the high-level Keras API"
      ]
    },
    {
      "cell_type": "code",
      "execution_count": 181,
      "metadata": {
        "id": "PEkMfar38_Q7"
      },
      "outputs": [],
      "source": [
        "import tensorflow as tf\n",
        "\n",
        "import numpy as np\n",
        "import os\n",
        "\n",
        "import pdb\n",
        "\n",
        "from pprint import pprint"
      ]
    },
    {
      "cell_type": "code",
      "execution_count": 182,
      "metadata": {
        "colab": {
          "base_uri": "https://localhost:8080/"
        },
        "id": "tu-61s1AOF_I",
        "outputId": "08ca7723-4a58-47bf-9d48-dce18f082167"
      },
      "outputs": [
        {
          "output_type": "stream",
          "name": "stdout",
          "text": [
            "Tensorflow version:  2.12.0\n"
          ]
        }
      ],
      "source": [
        "print(\"Tensorflow version: \", tf.__version__)"
      ]
    },
    {
      "cell_type": "markdown",
      "metadata": {
        "id": "T0RoR15U3N2_"
      },
      "source": [
        "# Get the MNIST dataset\n",
        "- data pre-split into training and test sets\n",
        "  - flatten the images from 2 dimensional to 1 dimensional (makes it easier to feed into first layer)\n",
        "  - create validation set from part of training\n",
        "- \"normalize\" the inputs: change pixel range from [0,255] to [0,1]"
      ]
    },
    {
      "cell_type": "code",
      "execution_count": 183,
      "metadata": {
        "id": "g3Cdg32u3Lon"
      },
      "outputs": [],
      "source": [
        "(X_train, y_train), (X_test, y_test) = tf.keras.datasets.mnist.load_data()\n",
        "\n",
        "# Determine \n",
        "# - the dimensions of the input by examining the first training example\n",
        "# - the dimensions of the output (number of classes) by examinimg the targets\n",
        "input_size = np.prod(X_train[0].shape)\n",
        "output_size = np.unique(y_train).shape[0]\n",
        "\n",
        "# input image dimensions\n",
        "img_rows, img_cols = X_train[0].shape[0:2]\n",
        "\n",
        "valid_size = X_train.shape[0] // 10\n",
        "\n",
        "# Flatten the data to one dimension and normalize to range [0,1]\n",
        "X_train = X_train.astype(np.float32).reshape(-1, input_size) / 255.0\n",
        "X_test = X_test.astype(np.float32).reshape(-1, input_size) / 255.0\n",
        "y_train = y_train.astype(np.int32)\n",
        "y_test = y_test.astype(np.int32)\n",
        "X_valid, X_train = X_train[:valid_size], X_train[valid_size:]\n",
        "y_valid, y_train = y_train[:valid_size], y_train[valid_size:]"
      ]
    },
    {
      "cell_type": "code",
      "execution_count": 184,
      "metadata": {
        "colab": {
          "base_uri": "https://localhost:8080/"
        },
        "id": "US5Qs7m7AA66",
        "outputId": "fee574da-991b-4213-c9f0-ba26d443d4c6"
      },
      "outputs": [
        {
          "output_type": "execute_result",
          "data": {
            "text/plain": [
              "(54000, 784)"
            ]
          },
          "metadata": {},
          "execution_count": 184
        }
      ],
      "source": [
        "X_train.shape"
      ]
    },
    {
      "cell_type": "code",
      "execution_count": 185,
      "metadata": {
        "id": "Gkk5r6kBOF_V"
      },
      "outputs": [],
      "source": [
        "n_epochs = 20\n",
        "batch_size = 50\n",
        "\n",
        "(n_hidden_1, n_hidden_2) = (100, 30)\n",
        "modelName = \"mnist_first\"\n"
      ]
    },
    {
      "cell_type": "markdown",
      "metadata": {
        "id": "BrvbOmCvMcgi"
      },
      "source": [
        "# Keras version\n",
        "\n",
        "That was very instructive (hopefully) but also a lot of detailed work.\n",
        "\n",
        "It's worthwhile studying the TensorFlow.layers to get a deeper understanding of \n",
        "- computation graph\n",
        "  -definition\n",
        "  - initialization\n",
        "  - evaluation\n",
        "- loss functions:\n",
        "  - computed per example and summed\n",
        "- the training loop\n",
        "\n",
        "Over the years, many people have created higher level abstractions (e.g., `tf.layers.dense` is an abstraction that saves you the trouble of multiplying inputs by weights, adding a bias, and applying an activation) to both simplify and reduce repeated code patterns.\n",
        "\n",
        "The Keras API is a very high level abstraction (that looks similar to `sklearn` in some regards) that simplifies things a great deal, and will be tightly integrated into TensorFlow 2.0\n",
        "\n",
        "Let's re-implement this classification problem in Keras"
      ]
    },
    {
      "cell_type": "markdown",
      "metadata": {
        "id": "hPeAgHXoKCex"
      },
      "source": [
        "## Boiler plate\n",
        "\n",
        "Here are some of our standard imports.\n",
        "\n",
        "Note that - `keras` and - `tensorflow.keras` are two very similar but **distinct** modules !  \n",
        "- `keras` is a  [project](https://keras.io/) that is separate and distinct from TensorFlow\n",
        "  - It is an API for Neural Network programming, not a library\n",
        "  - The API can be implemented for many different compute engines.  TensorFlow is just one engine\n",
        "  - The Keras project supplies a TensorFlow engine which is **not identical** to Google's tTensorFlow implementation\n",
        "  \n",
        "- `tensorflow.keras` is Google's implementation (and extension) of the Keras API\n",
        "\n",
        "For the most part they are similar, but you can create difficulty if you mix and match.\n",
        "We will deal exclusively with `tensorflow.keras`, as will be reflected in our import statements.\n"
      ]
    },
    {
      "cell_type": "code",
      "execution_count": 186,
      "metadata": {
        "id": "fuIxxo8DzrB4"
      },
      "outputs": [],
      "source": [
        "import tensorflow as tf\n",
        "from tensorflow.keras.models import Model, Sequential\n",
        "from tensorflow.keras import layers\n",
        "\n",
        "from tensorflow.keras.utils import plot_model\n",
        "import IPython\n"
      ]
    },
    {
      "cell_type": "markdown",
      "metadata": {
        "id": "JUsOYDS8MG4q"
      },
      "source": [
        "## Build the compuation graph in Keras"
      ]
    },
    {
      "cell_type": "code",
      "execution_count": 187,
      "metadata": {
        "id": "hpY4y5n6z-VA"
      },
      "outputs": [],
      "source": [
        "mnist_model = Sequential([ layers.Dense(n_hidden_1, activation=tf.nn.relu,    name=\"hidden1\", input_shape=(input_size,)),\n",
        "                           layers.Dense(n_hidden_2, activation=tf.nn.relu,    name=\"hidden2\"),\n",
        "                           layers.Dense(output_size,activation=tf.nn.softmax, name=\"outputs\")\n",
        "                         ]\n",
        "                        )\n",
        "    \n"
      ]
    },
    {
      "cell_type": "markdown",
      "metadata": {
        "id": "vls6hFpTMM_2"
      },
      "source": [
        "That was easy !\n",
        "\n",
        "We used the same conceptual layers as in the TensorFlow.layers implementation and passed them as a list to the `Sequential` model.\n",
        "Note, however, that the \"layers\" now come from tf.keras rather than TensorFlow tf.\n",
        "\n",
        "The `Sequential` model will take the input, feed it to the first layer, and pass the output of layer $i$ to the input of layer $i+1$."
      ]
    },
    {
      "cell_type": "markdown",
      "metadata": {
        "id": "Pd6LOyYID7kR"
      },
      "source": [
        "Some things to point out\n",
        "- when you use the `Sequential` model, you don't supply an explicit `Input` layer (placeholders in TensorFlow.layers)\n",
        "  - instead: the first (and only the first) layer requires the `input_shape` argument to describe the shape of the input\n",
        "- Unlike in the TensorFlow.layers code, the  final layer (`outputs`) has an `softmax` activation\n",
        "  - In TensorFlow.layers, the loss function (`sparse_softmax_cross_entropy_with_logits`) performs its own `softmax`\n",
        "    - we couldn't find a similar loss function in Keras, so we perform the `softmax` ourself."
      ]
    },
    {
      "cell_type": "markdown",
      "metadata": {
        "id": "CkJoK62xN72s"
      },
      "source": [
        "### Creating a loss node  and training operation in Keras \n",
        "\n",
        "The `mnist_model` specifies the layers of the model, but doesn't actually build the computation graphs.\n",
        "For that, we need to \"compile\" the model.\n",
        "\n",
        "The compile step is also where we specify \n",
        "- the loss function\n",
        "- the optimizer step\n",
        "- other \"metrics\" (values to measure) to compute in the training loop"
      ]
    },
    {
      "cell_type": "markdown",
      "metadata": {
        "id": "wF6SVWpVD7kX"
      },
      "source": [
        "Below \n",
        "- we will use `sparse_categorical_crossentropy` as the loss (`sparse` because our labels are not one-hot encoded).\n",
        "- `adam` as our optimizer (could have easily chosen `sgd`in order to be more similar to the TensorFlow.layers code)\n",
        "- measure training accuracy (`acc`) "
      ]
    },
    {
      "cell_type": "code",
      "execution_count": 188,
      "metadata": {
        "id": "v6jzbbOi73iL"
      },
      "outputs": [],
      "source": [
        "metrics = [ \"accuracy\" ]\n",
        "mnist_model.compile(optimizer='adam',\n",
        "                    loss='sparse_categorical_crossentropy',\n",
        "                    metrics=metrics)\n"
      ]
    },
    {
      "cell_type": "markdown",
      "metadata": {
        "id": "OCuhn38TPyIU"
      },
      "source": [
        "## History and callbacks\n",
        "\n",
        "Strictly speaking, the next few cells are not absolutely necessary: they go far beyond what our TensorFlow.layers program accomplishes\n",
        "- call backs\n",
        "  - these are functions that are called automatically in the training loop\n",
        "    - `EarlyStopping`is a call back that will terminate the training loop when it is no longer productive to continue (e.g., when validation loss levels off)\n",
        "    - `ModelCheckpoint` is a call back that will create intermediate snapshots of our model (including the parameters/weights it has learned)\n",
        "      - We will create a checkpoint whenever accuracy improves.  So if further training reduces accuracy, we can restore back to the \"best\" parameter values.\n",
        "      - This means we can re-start the model and continue to train without losing the \"best\" values.\n",
        "      - In the TensorFlow.layers code, we only created a single checkpoint at the end of training\n",
        "  "
      ]
    },
    {
      "cell_type": "code",
      "execution_count": 189,
      "metadata": {
        "id": "4xA_buEbBORy"
      },
      "outputs": [],
      "source": [
        "import matplotlib.pyplot as plt\n",
        "\n",
        "def plot_training(history):\n",
        "    \"\"\"\n",
        "    Plot training and validation statistics\n",
        "    - accuracy vs epoch number\n",
        "    - loss     vs epoch number\n",
        "\n",
        "    From https://www.learnopencv.com/keras-tutorial-fine-tuning-using-pre-trained-models/\n",
        "    \"\"\"  \n",
        "\n",
        "    metrics = list( history.history.keys() )\n",
        "\n",
        "    # Loss\n",
        "    loss = history.history['loss']\n",
        "\n",
        "    epochs = range(len(loss))\n",
        "\n",
        "    fig, axs = plt.subplots( len(metrics)// 2, 2, figsize=(9,6))\n",
        "    axs = axs.flatten()\n",
        "\n",
        "    for i, metric in enumerate(metrics):\n",
        "      ax = axs[i]\n",
        "      metric_value = history.history[metric]\n",
        "      ax.plot(epochs, metric_value, 'b', label=metric)\n",
        "      ax.set_title(metric)\n",
        "      ax.legend()\n",
        "\n",
        "    plt.show()"
      ]
    },
    {
      "cell_type": "code",
      "execution_count": 190,
      "metadata": {
        "colab": {
          "base_uri": "https://localhost:8080/"
        },
        "id": "Odi6HQsH_yPs",
        "outputId": "023a143d-7c20-43f9-b6fa-263502ba7d22"
      },
      "outputs": [
        {
          "output_type": "stream",
          "name": "stdout",
          "text": [
            "The tensorboard extension is already loaded. To reload it, use:\n",
            "  %reload_ext tensorboard\n"
          ]
        }
      ],
      "source": [
        "# Load the TensorBoard notebook extension\n",
        "%load_ext tensorboard\n",
        "\n",
        "import datetime\n",
        "\n",
        "import os\n",
        "\n",
        "logs_dir=\"logs/fit/\"\n",
        "os.makedirs( \".\", exist_ok=True)\n",
        "\n",
        "from tensorflow.keras.callbacks import EarlyStopping, ModelCheckpoint\n",
        "log_dir= os.path.join(logs_dir, datetime.datetime.now().strftime(\"%Y%m%d-%H%M%S\") )\n",
        "\n",
        "tensorboard_callback = tf.keras.callbacks.TensorBoard(log_dir=log_dir, histogram_freq=1)\n"
      ]
    },
    {
      "cell_type": "markdown",
      "metadata": {
        "id": "5m68M2RwRPJt"
      },
      "source": [
        "### Create call backs\n",
        "- Early Stopping\n",
        "- Model Checkpoint"
      ]
    },
    {
      "cell_type": "code",
      "execution_count": 191,
      "metadata": {
        "id": "ofX0fwl1_p-P"
      },
      "outputs": [],
      "source": [
        "es_callback = tf.keras.callbacks.EarlyStopping(monitor='val_loss', min_delta=.00005, patience=2, verbose=0, mode='auto', baseline=None, restore_best_weights=True)\n",
        "\n",
        "callbacks = [ es_callback,\n",
        "              ModelCheckpoint(filepath=modelName + \".ckpt\", monitor='val_accuracy', mode='max', save_best_only=True)\n",
        "          ]\n"
      ]
    },
    {
      "cell_type": "markdown",
      "metadata": {
        "id": "c1rXcjm9RbWl"
      },
      "source": [
        "## Run the training loop in Keras\n",
        "\n",
        "Now that the model is compiled, we can run `fit` on our training (and validation) data sets/\n",
        "\n",
        "This is very much  like `sklearn`.\n",
        "\n",
        "Note\n",
        "- We don't have to construct our own training loop\n",
        "- We don't have to create code to deliver mini-batches\n",
        "- We don't have to insert code to display metrics (like accuracy)\n",
        "- We don't have to run for the full set of epochs, because of Early Stopping\n",
        "\n",
        "See how much simpler this step is compared to TensorFlow.layers."
      ]
    },
    {
      "cell_type": "code",
      "execution_count": 192,
      "metadata": {
        "colab": {
          "base_uri": "https://localhost:8080/"
        },
        "id": "jgFahEm19KoJ",
        "outputId": "2e4d9a0f-d4e0-4d6e-b93a-bdf22cf3b4a9"
      },
      "outputs": [
        {
          "output_type": "stream",
          "name": "stdout",
          "text": [
            "Epoch 1/20\n",
            "1075/1080 [============================>.] - ETA: 0s - loss: 0.3108 - accuracy: 0.9100"
          ]
        },
        {
          "output_type": "stream",
          "name": "stderr",
          "text": [
            "WARNING:absl:Found untraced functions such as _update_step_xla while saving (showing 1 of 1). These functions will not be directly callable after loading.\n"
          ]
        },
        {
          "output_type": "stream",
          "name": "stdout",
          "text": [
            "\b\b\b\b\b\b\b\b\b\b\b\b\b\b\b\b\b\b\b\b\b\b\b\b\b\b\b\b\b\b\b\b\b\b\b\b\b\b\b\b\b\b\b\b\b\b\b\b\b\b\b\b\b\b\b\b\b\b\b\b\b\b\b\b\b\b\b\b\b\b\b\b\b\b\b\b\b\b\b\b\b\b\b\b\b\b\r1080/1080 [==============================] - 8s 7ms/step - loss: 0.3099 - accuracy: 0.9103 - val_loss: 0.1480 - val_accuracy: 0.9612\n",
            "Epoch 2/20\n",
            "1075/1080 [============================>.] - ETA: 0s - loss: 0.1319 - accuracy: 0.9611"
          ]
        },
        {
          "output_type": "stream",
          "name": "stderr",
          "text": [
            "WARNING:absl:Found untraced functions such as _update_step_xla while saving (showing 1 of 1). These functions will not be directly callable after loading.\n"
          ]
        },
        {
          "output_type": "stream",
          "name": "stdout",
          "text": [
            "\b\b\b\b\b\b\b\b\b\b\b\b\b\b\b\b\b\b\b\b\b\b\b\b\b\b\b\b\b\b\b\b\b\b\b\b\b\b\b\b\b\b\b\b\b\b\b\b\b\b\b\b\b\b\b\b\b\b\b\b\b\b\b\b\b\b\b\b\b\b\b\b\b\b\b\b\b\b\b\b\b\b\b\b\b\b\r1080/1080 [==============================] - 5s 5ms/step - loss: 0.1319 - accuracy: 0.9612 - val_loss: 0.1293 - val_accuracy: 0.9615\n",
            "Epoch 3/20\n",
            "1076/1080 [============================>.] - ETA: 0s - loss: 0.0935 - accuracy: 0.9722"
          ]
        },
        {
          "output_type": "stream",
          "name": "stderr",
          "text": [
            "WARNING:absl:Found untraced functions such as _update_step_xla while saving (showing 1 of 1). These functions will not be directly callable after loading.\n"
          ]
        },
        {
          "output_type": "stream",
          "name": "stdout",
          "text": [
            "\b\b\b\b\b\b\b\b\b\b\b\b\b\b\b\b\b\b\b\b\b\b\b\b\b\b\b\b\b\b\b\b\b\b\b\b\b\b\b\b\b\b\b\b\b\b\b\b\b\b\b\b\b\b\b\b\b\b\b\b\b\b\b\b\b\b\b\b\b\b\b\b\b\b\b\b\b\b\b\b\b\b\b\b\b\b\r1080/1080 [==============================] - 6s 6ms/step - loss: 0.0936 - accuracy: 0.9722 - val_loss: 0.1040 - val_accuracy: 0.9683\n",
            "Epoch 4/20\n",
            "1080/1080 [==============================] - ETA: 0s - loss: 0.0711 - accuracy: 0.9784"
          ]
        },
        {
          "output_type": "stream",
          "name": "stderr",
          "text": [
            "WARNING:absl:Found untraced functions such as _update_step_xla while saving (showing 1 of 1). These functions will not be directly callable after loading.\n"
          ]
        },
        {
          "output_type": "stream",
          "name": "stdout",
          "text": [
            "\b\b\b\b\b\b\b\b\b\b\b\b\b\b\b\b\b\b\b\b\b\b\b\b\b\b\b\b\b\b\b\b\b\b\b\b\b\b\b\b\b\b\b\b\b\b\b\b\b\b\b\b\b\b\b\b\b\b\b\b\b\b\b\b\b\b\b\b\b\b\b\b\b\b\b\b\b\b\b\b\b\b\b\b\b\b\r1080/1080 [==============================] - 7s 6ms/step - loss: 0.0711 - accuracy: 0.9784 - val_loss: 0.0895 - val_accuracy: 0.9742\n",
            "Epoch 5/20\n",
            "1080/1080 [==============================] - 4s 4ms/step - loss: 0.0567 - accuracy: 0.9823 - val_loss: 0.0900 - val_accuracy: 0.9715\n",
            "Epoch 6/20\n",
            "1073/1080 [============================>.] - ETA: 0s - loss: 0.0467 - accuracy: 0.9857"
          ]
        },
        {
          "output_type": "stream",
          "name": "stderr",
          "text": [
            "WARNING:absl:Found untraced functions such as _update_step_xla while saving (showing 1 of 1). These functions will not be directly callable after loading.\n"
          ]
        },
        {
          "output_type": "stream",
          "name": "stdout",
          "text": [
            "\b\b\b\b\b\b\b\b\b\b\b\b\b\b\b\b\b\b\b\b\b\b\b\b\b\b\b\b\b\b\b\b\b\b\b\b\b\b\b\b\b\b\b\b\b\b\b\b\b\b\b\b\b\b\b\b\b\b\b\b\b\b\b\b\b\b\b\b\b\b\b\b\b\b\b\b\b\b\b\b\b\b\b\b\b\b\r1080/1080 [==============================] - 7s 6ms/step - loss: 0.0467 - accuracy: 0.9857 - val_loss: 0.0871 - val_accuracy: 0.9755\n",
            "Epoch 7/20\n",
            "1080/1080 [==============================] - 5s 4ms/step - loss: 0.0375 - accuracy: 0.9881 - val_loss: 0.0960 - val_accuracy: 0.9725\n",
            "Epoch 8/20\n",
            "1080/1080 [==============================] - 4s 4ms/step - loss: 0.0338 - accuracy: 0.9895 - val_loss: 0.0963 - val_accuracy: 0.9732\n"
          ]
        }
      ],
      "source": [
        "history = mnist_model.fit(X_train, y_train, epochs=n_epochs, batch_size=batch_size, validation_data=(X_valid, y_valid), shuffle=True, callbacks=callbacks)\n",
        "\n"
      ]
    },
    {
      "cell_type": "markdown",
      "metadata": {
        "id": "LhfwC058SNMq"
      },
      "source": [
        "### Compute the accuracy on the test set"
      ]
    },
    {
      "cell_type": "code",
      "execution_count": 193,
      "metadata": {
        "colab": {
          "base_uri": "https://localhost:8080/"
        },
        "id": "VnunhN-fC29O",
        "outputId": "93fcc034-d2a8-4393-d710-0106689ebee8"
      },
      "outputs": [
        {
          "output_type": "stream",
          "name": "stdout",
          "text": [
            "313/313 [==============================] - 1s 2ms/step - loss: 0.0840 - accuracy: 0.9751\n",
            "Test dataset: loss=0.0840, accuracy=0.9751\n"
          ]
        }
      ],
      "source": [
        "test_loss, test_accuracy = mnist_model.evaluate(X_test, y_test)\n",
        "print(\"Test dataset: loss={tl:5.4f}, accuracy={ta:5.4f}\".format(tl=test_loss, ta=test_accuracy))"
      ]
    },
    {
      "cell_type": "markdown",
      "metadata": {
        "id": "kL10YmhkSa45"
      },
      "source": [
        "## See the training history\n",
        "\n",
        "The `fit` method returns a `history` object, which contains a time-series (across the epochs) of each metric.\n",
        "\n",
        "You automatically get a `loss` metric so you can see how quickly your training loss decreases.\n",
        "\n",
        "In the compile step, you can add other metric (like accuracy, both for training and validation).\n",
        "\n",
        "Because these metrics are time series, we can visualize them."
      ]
    },
    {
      "cell_type": "code",
      "execution_count": 194,
      "metadata": {
        "colab": {
          "base_uri": "https://localhost:8080/"
        },
        "id": "V7-1nlvrDJj4",
        "outputId": "5e3a9678-89f7-4d65-87dd-53f0531dfbdc"
      },
      "outputs": [
        {
          "output_type": "execute_result",
          "data": {
            "text/plain": [
              "dict_keys(['loss', 'accuracy', 'val_loss', 'val_accuracy'])"
            ]
          },
          "metadata": {},
          "execution_count": 194
        }
      ],
      "source": [
        "history.history.keys()"
      ]
    },
    {
      "cell_type": "code",
      "execution_count": 195,
      "metadata": {
        "colab": {
          "base_uri": "https://localhost:8080/",
          "height": 545
        },
        "id": "_3M6OWchC_cR",
        "outputId": "270760af-2962-4e88-f7cb-a681b773b34c"
      },
      "outputs": [
        {
          "output_type": "display_data",
          "data": {
            "text/plain": [
              "<Figure size 900x600 with 4 Axes>"
            ],
            "image/png": "[encoded data removed]"
          },
          "metadata": {}
        }
      ],
      "source": [
        "plot_training(history)"
      ]
    },
    {
      "cell_type": "markdown",
      "metadata": {
        "id": "MGIur_yGUc-K"
      },
      "source": [
        "## Use the model for prediction\n",
        "\n",
        "Just as with `sklearn`, once we have fit the model, we can use the `predict` method to map inputs to predictions.\n",
        "- Remember: the `outputs` layer has 10 elements, one per output class (so it is one-hot encoded)"
      ]
    },
    {
      "cell_type": "code",
      "execution_count": 196,
      "metadata": {
        "colab": {
          "base_uri": "https://localhost:8080/"
        },
        "id": "lGvVOjIGUgvc",
        "outputId": "30563bb2-f6c4-4172-8f71-e799c1c6d8aa"
      },
      "outputs": [
        {
          "output_type": "stream",
          "name": "stdout",
          "text": [
            "313/313 [==============================] - 1s 3ms/step\n"
          ]
        },
        {
          "output_type": "execute_result",
          "data": {
            "text/plain": [
              "(10000, 10)"
            ]
          },
          "metadata": {},
          "execution_count": 196
        }
      ],
      "source": [
        "predictions = mnist_model.predict(X_test)\n",
        "predictions.shape"
      ]
    },
    {
      "cell_type": "markdown",
      "metadata": {
        "id": "2V6fW1zO3hkj"
      },
      "source": [
        "## Examine the model\n",
        "\n",
        "Observe the number of parameters (weights) that the model requires.  Is it larger than you thought ?"
      ]
    },
    {
      "cell_type": "code",
      "execution_count": 197,
      "metadata": {
        "colab": {
          "base_uri": "https://localhost:8080/"
        },
        "id": "ZZs3yFk_3d-Q",
        "outputId": "caa7fc0d-321c-403d-f79f-ee6b4b0e28b5"
      },
      "outputs": [
        {
          "output_type": "stream",
          "name": "stdout",
          "text": [
            "Model: \"sequential_1\"\n",
            "_________________________________________________________________\n",
            " Layer (type)                Output Shape              Param #   \n",
            "=================================================================\n",
            " hidden1 (Dense)             (None, 100)               78500     \n",
            "                                                                 \n",
            " hidden2 (Dense)             (None, 30)                3030      \n",
            "                                                                 \n",
            " outputs (Dense)             (None, 10)                310       \n",
            "                                                                 \n",
            "=================================================================\n",
            "Total params: 81,840\n",
            "Trainable params: 81,840\n",
            "Non-trainable params: 0\n",
            "_________________________________________________________________\n"
          ]
        }
      ],
      "source": [
        "mnist_model.summary()"
      ]
    },
    {
      "cell_type": "markdown",
      "metadata": {
        "id": "x9Ip68H5TG-Z"
      },
      "source": [
        "## Bonus: Visualize the model's layers !\n"
      ]
    },
    {
      "cell_type": "code",
      "execution_count": 198,
      "metadata": {
        "colab": {
          "base_uri": "https://localhost:8080/",
          "height": 422
        },
        "id": "COVdYrNe68zw",
        "outputId": "cc203db3-8d5b-42a8-dfb2-7f61ae43a0bc"
      },
      "outputs": [
        {
          "output_type": "execute_result",
          "data": {
            "image/png": "[encoded data removed]",
            "text/plain": [
              "<IPython.core.display.Image object>"
            ]
          },
          "metadata": {},
          "execution_count": 198
        }
      ],
      "source": [
        "plot_model(mnist_model, \"mnist_model.png\", show_shapes=True)\n",
        "IPython.display.Image(  \"mnist_model.png\")"
      ]
    },
    {
      "cell_type": "markdown",
      "metadata": {
        "id": "LztSZ_uBIJEV"
      },
      "source": [
        "## Save the model (architecture + weights + optimizer state))"
      ]
    },
    {
      "cell_type": "code",
      "execution_count": 199,
      "metadata": {
        "id": "pPSQ-NiIINe1"
      },
      "outputs": [],
      "source": [
        "from tensorflow.keras.models import load_model\n",
        "\n",
        "modelName = \"mnist_first\"\n",
        "\n",
        "model_path = os.path.join(\".\", modelName + \".h5\") \n",
        "mnist_model.save(model_path)  # creates a HDF5 file model_path\n"
      ]
    },
    {
      "cell_type": "markdown",
      "metadata": {
        "id": "65g8ly-nJlUC"
      },
      "source": [
        "## Load a saved model"
      ]
    },
    {
      "cell_type": "code",
      "execution_count": 200,
      "metadata": {
        "id": "IzhcynJkITiJ"
      },
      "outputs": [],
      "source": [
        "# returns a compiled model\n",
        "# identical to the previous one\n",
        "mnist_model_1 = load_model(model_path)"
      ]
    },
    {
      "cell_type": "markdown",
      "metadata": {
        "id": "DMjMDvfJJtyx"
      },
      "source": [
        "### Show that the restored model works"
      ]
    },
    {
      "cell_type": "code",
      "execution_count": 201,
      "metadata": {
        "colab": {
          "base_uri": "https://localhost:8080/"
        },
        "id": "7sIH30ySJffG",
        "outputId": "f5f8ccdb-a0a1-4abc-fe31-ade13528c7d6"
      },
      "outputs": [
        {
          "output_type": "stream",
          "name": "stdout",
          "text": [
            "Model: \"sequential_1\"\n",
            "_________________________________________________________________\n",
            " Layer (type)                Output Shape              Param #   \n",
            "=================================================================\n",
            " hidden1 (Dense)             (None, 100)               78500     \n",
            "                                                                 \n",
            " hidden2 (Dense)             (None, 30)                3030      \n",
            "                                                                 \n",
            " outputs (Dense)             (None, 10)                310       \n",
            "                                                                 \n",
            "=================================================================\n",
            "Total params: 81,840\n",
            "Trainable params: 81,840\n",
            "Non-trainable params: 0\n",
            "_________________________________________________________________\n"
          ]
        }
      ],
      "source": [
        "mnist_model_1.summary()"
      ]
    },
    {
      "cell_type": "code",
      "execution_count": 202,
      "metadata": {
        "colab": {
          "base_uri": "https://localhost:8080/"
        },
        "id": "AjTXy1PUJzIn",
        "outputId": "4bab6394-b785-4e1c-ccf6-0c23b4d939d9"
      },
      "outputs": [
        {
          "output_type": "stream",
          "name": "stdout",
          "text": [
            "313/313 [==============================] - 1s 2ms/step\n",
            "Live model and restore model results match ? YES\n"
          ]
        }
      ],
      "source": [
        "predictions_1 = mnist_model_1.predict(X_test)\n",
        "predictions_1.shape\n",
        "\n",
        "all_match = np.all(predictions == predictions_1)\n",
        "if all_match:\n",
        "  answer = \"YES\"\n",
        "else:\n",
        "  answer = \"NO\"\n",
        "\n",
        "print(\"Live model and restore model results match ?\", answer)"
      ]
    },
    {
      "cell_type": "markdown",
      "source": [
        "# Hyper-parameter search: Keras tuner\n",
        "\n",
        "How many units should be in my non-head `Dense` layers ?\n",
        "- You can experiment by hand\n",
        "- You can make the number of units a *hyper-paramter* and have Keras search for the best value"
      ],
      "metadata": {
        "id": "UXPFKbxlr14z"
      }
    },
    {
      "cell_type": "markdown",
      "source": [
        "## Colab setup (much faster)"
      ],
      "metadata": {
        "id": "4iYkdhWxs6HY"
      }
    },
    {
      "cell_type": "code",
      "source": [
        "try:\n",
        "  from google.colab import drive\n",
        "  IN_COLAB=True\n",
        "except:\n",
        "  IN_COLAB=False\n",
        "\n",
        "if IN_COLAB:\n",
        "  print(\"We're running Colab\")"
      ],
      "metadata": {
        "colab": {
          "base_uri": "https://localhost:8080/"
        },
        "id": "KrrkTenZMlKM",
        "outputId": "069c49c8-19fe-4a40-e362-738383c074fb"
      },
      "execution_count": 203,
      "outputs": [
        {
          "output_type": "stream",
          "name": "stdout",
          "text": [
            "We're running Colab\n"
          ]
        }
      ]
    },
    {
      "cell_type": "code",
      "source": [
        "import tensorflow as tf\n",
        "\n",
        "print(\"Running TensorFlow version \",tf.__version__)\n",
        "\n",
        "# Parse tensorflow version\n",
        "import re\n",
        "\n",
        "version_match = re.match(\"([0-9]+)\\.([0-9]+)\", tf.__version__)\n",
        "tf_major, tf_minor = int(version_match.group(1)) , int(version_match.group(2))\n",
        "print(\"Version {v:d}, minor {m:d}\".format(v=tf_major, m=tf_minor) )"
      ],
      "metadata": {
        "colab": {
          "base_uri": "https://localhost:8080/"
        },
        "id": "MLWUIhNDNJDw",
        "outputId": "f043a679-c95c-4b15-f613-861c7a47e6a7"
      },
      "execution_count": 204,
      "outputs": [
        {
          "output_type": "stream",
          "name": "stdout",
          "text": [
            "Running TensorFlow version  2.12.0\n",
            "Version 2, minor 12\n"
          ]
        }
      ]
    },
    {
      "cell_type": "code",
      "source": [
        "gpu_devices = tf.config.experimental.list_physical_devices('GPU')\n",
        "if gpu_devices:\n",
        "    print('Using GPU')\n",
        "    tf.config.experimental.set_memory_growth(gpu_devices[0], True)\n",
        "else:\n",
        "    print('Using CPU')"
      ],
      "metadata": {
        "colab": {
          "base_uri": "https://localhost:8080/"
        },
        "id": "bVJFZ6SUNOLL",
        "outputId": "8610b87e-61c4-4e82-85e9-ac8204f4cb02"
      },
      "execution_count": 205,
      "outputs": [
        {
          "output_type": "stream",
          "name": "stdout",
          "text": [
            "Using CPU\n"
          ]
        }
      ]
    },
    {
      "cell_type": "code",
      "source": [
        "if IN_COLAB:\n",
        "  # Mount the Google Drive at mount\n",
        "  mount='/content/gdrive'\n",
        "  print(\"Colab: mounting Google drive on \", mount)\n",
        "\n",
        "  drive.mount(mount)\n",
        "\n",
        "  # Switch to the directory on the Google Drive that you want to use\n",
        "  import os\n",
        "  drive_root = mount + \"/My Drive/Colab Notebooks/NYU/demo\"\n",
        "  \n",
        "  # Create drive_root if it doesn't exist\n",
        "  create_drive_root = True\n",
        "  if create_drive_root:\n",
        "    print(\"\\nColab: making sure \", drive_root, \" exists.\")\n",
        "    os.makedirs(drive_root, exist_ok=True)\n",
        "  \n",
        "  # Change to the directory\n",
        "  print(\"\\nColab: Changing directory to \", drive_root)\n",
        "  %cd $drive_root\n",
        "else:\n",
        "    raise RuntimeError(\"This notebook should be run from Colab, not on the local machine\")"
      ],
      "metadata": {
        "colab": {
          "base_uri": "https://localhost:8080/"
        },
        "id": "kV_crvYiNSCN",
        "outputId": "75028ed4-e91f-49fc-fed2-3a88938603e6"
      },
      "execution_count": 206,
      "outputs": [
        {
          "output_type": "stream",
          "name": "stdout",
          "text": [
            "Colab: mounting Google drive on  /content/gdrive\n",
            "Drive already mounted at /content/gdrive; to attempt to forcibly remount, call drive.mount(\"/content/gdrive\", force_remount=True).\n",
            "\n",
            "Colab: making sure  /content/gdrive/My Drive/Colab Notebooks/NYU/demo  exists.\n",
            "\n",
            "Colab: Changing directory to  /content/gdrive/My Drive/Colab Notebooks/NYU/demo\n",
            "/content/gdrive/My Drive/Colab Notebooks/NYU/demo\n"
          ]
        }
      ]
    },
    {
      "cell_type": "code",
      "source": [
        "# Change to demo directory so tuner-related output files are saved in common place\n",
        "if IN_COLAB:\n",
        "  import os\n",
        "  kt_demo_dir = os.path.join(drive_root, \"Keras_tuner\")\n",
        "  %cd $kt_demo_dir"
      ],
      "metadata": {
        "colab": {
          "base_uri": "https://localhost:8080/"
        },
        "id": "Yluz3Z-3Njgr",
        "outputId": "1c5bced2-dede-4949-bfe3-914f742c8e34"
      },
      "execution_count": 207,
      "outputs": [
        {
          "output_type": "stream",
          "name": "stdout",
          "text": [
            "/content/gdrive/My Drive/Colab Notebooks/NYU/demo/Keras_tuner\n"
          ]
        }
      ]
    },
    {
      "cell_type": "code",
      "source": [
        "# Make sure necessary packages are present\n",
        "\n",
        "import pkg_resources\n",
        "import sys\n",
        "import subprocess\n",
        "\n",
        "required = {'keras_tuner'}\n",
        "installed = {pkg.key for pkg in pkg_resources.working_set}\n",
        "missing = required - installed\n",
        "\n",
        "if missing:\n",
        "    python = sys.executable\n",
        "    rc = subprocess.check_call([python, '-m', 'pip', 'install', *missing], stdout=subprocess.DEVNULL)\n",
        "\n",
        "    if rc == 0:\n",
        "      print(\"Installed: \", \", \".join( list(missing) ) )"
      ],
      "metadata": {
        "colab": {
          "base_uri": "https://localhost:8080/"
        },
        "id": "KVs9w1dLSFsb",
        "outputId": "208e04cf-49bb-4874-bc70-853ceb88dc4a"
      },
      "execution_count": 208,
      "outputs": [
        {
          "output_type": "stream",
          "name": "stdout",
          "text": [
            "Installed:  keras_tuner\n"
          ]
        }
      ]
    },
    {
      "cell_type": "markdown",
      "source": [
        "## Here is the tuning code"
      ],
      "metadata": {
        "id": "rldKLIDFuZ-W"
      }
    },
    {
      "cell_type": "code",
      "source": [
        "# You may need to `pip install keras-tuner` before running the import\n",
        "\n",
        "import keras_tuner as kt"
      ],
      "metadata": {
        "id": "czfL-ZcXsF3Q"
      },
      "execution_count": 209,
      "outputs": []
    },
    {
      "cell_type": "code",
      "source": [
        "def build_model(hp):\n",
        "    \n",
        "    ## Tunable hyperparameters\n",
        "    hp_dropout1_units = hp.Float(\"dropout_1\", min_value=0., max_value=0.9, step=0.3)\n",
        "    hp_dropout2_units = hp.Float(\"dropout_2\", min_value=0., max_value=0.9, step=0.3)\n",
        "    \n",
        "    hp_dense1_units = hp.Int(\"dense_1\", min_value=8, max_value=24, step=8)\n",
        "    hp_dense2_units = hp.Int(\"dense_2\", min_value=8, max_value=24, step=8)\n",
        "\n",
        "    ## Tune the learning rate for the optimizer\n",
        "    ## Choose an optimal value from 0.01, 0.001, or 0.0001\n",
        "    hp_learning_rate = hp.Float('learning_rate', min_value=1e-4, max_value=1e-2, sampling=\"log\")\n",
        "\n",
        "    optimizer= tf.keras.optimizers.Adam(learning_rate=hp_learning_rate)\n",
        "    \n",
        "    # The model\n",
        "    model = tf.keras.Sequential()\n",
        "     \n",
        "    # Block 1: Dropout + Dense\n",
        "    model.add(tf.keras.layers.Dense( hp_dense1_units, activation=\"relu\", input_shape=(input_size,) ) )\n",
        "    model.add(tf.keras.layers.Dropout( hp_dropout1_units ) )\n",
        "    \n",
        "    # Block 2: Dropout + Dense\n",
        "    model.add(tf.keras.layers.Dense( hp_dense2_units, activation=\"relu\" ) )\n",
        "    model.add(tf.keras.layers.Dropout( hp_dropout2_units ) )\n",
        "    \n",
        "    # Head layer\n",
        "    model.add(tf.keras.layers.Dense(output_size,activation=tf.nn.softmax) )\n",
        "              \n",
        "    model.compile(loss='sparse_categorical_crossentropy', metrics=[\"accuracy\"], optimizer=optimizer)\n",
        "                 \n",
        "    return model"
      ],
      "metadata": {
        "id": "5rXXk-9ysKP4"
      },
      "execution_count": 210,
      "outputs": []
    },
    {
      "cell_type": "code",
      "source": [
        "## HyperBand algorithm from keras tuner\n",
        "overwrite_results=True # Set to False if you want to RE-USE results of previously run search\n",
        "\n",
        "tuner = kt.Hyperband(build_model, objective='val_accuracy',\n",
        "    max_epochs=10, \n",
        "    directory='keras_tuner_dir', project_name='dnn_keras_tuner_demo', \n",
        "    overwrite=overwrite_results)\n",
        "\n",
        "# tuner.search(X_train, y_train, epochs=50, validation_split=0.1)\n",
        "tuner.search(X_train, y_train, epochs=n_epochs, batch_size=batch_size, validation_data=(X_valid, y_valid), shuffle=True, callbacks=callbacks)\n"
      ],
      "metadata": {
        "colab": {
          "base_uri": "https://localhost:8080/"
        },
        "id": "A5-QEEx4sQB9",
        "outputId": "00e8ad72-6c5b-4271-c99a-f703cfb1b12a"
      },
      "execution_count": 211,
      "outputs": [
        {
          "output_type": "stream",
          "name": "stdout",
          "text": [
            "Trial 30 Complete [00h 00m 34s]\n",
            "val_accuracy: 0.9428333044052124\n",
            "\n",
            "Best val_accuracy So Far: 0.9636666774749756\n",
            "Total elapsed time: 00h 08m 29s\n"
          ]
        }
      ]
    },
    {
      "cell_type": "code",
      "source": [
        "# Get the top 2 models.\n",
        "models = tuner.get_best_models(num_models=2)\n",
        "best_model = models[0]\n",
        "\n",
        "# Build the model.\n",
        "# Needed for `Sequential` without specified `input_shape`.\n",
        "best_model.build()\n",
        "best_model.summary()\n"
      ],
      "metadata": {
        "colab": {
          "base_uri": "https://localhost:8080/"
        },
        "id": "O53mJEJfsRHo",
        "outputId": "6626b2d7-bfee-4e5a-e3fd-408bf47d4fb0"
      },
      "execution_count": 212,
      "outputs": [
        {
          "output_type": "stream",
          "name": "stdout",
          "text": [
            "Model: \"sequential\"\n",
            "_________________________________________________________________\n",
            " Layer (type)                Output Shape              Param #   \n",
            "=================================================================\n",
            " dense (Dense)               (None, 24)                18840     \n",
            "                                                                 \n",
            " dropout (Dropout)           (None, 24)                0         \n",
            "                                                                 \n",
            " dense_1 (Dense)             (None, 16)                400       \n",
            "                                                                 \n",
            " dropout_1 (Dropout)         (None, 16)                0         \n",
            "                                                                 \n",
            " dense_2 (Dense)             (None, 10)                170       \n",
            "                                                                 \n",
            "=================================================================\n",
            "Total params: 19,410\n",
            "Trainable params: 19,410\n",
            "Non-trainable params: 0\n",
            "_________________________________________________________________\n"
          ]
        }
      ]
    },
    {
      "cell_type": "code",
      "source": [
        "plot_model(best_model, show_shapes=True)"
      ],
      "metadata": {
        "colab": {
          "base_uri": "https://localhost:8080/",
          "height": 1000
        },
        "id": "n5kos33wsV0I",
        "outputId": "224350f5-84fb-424a-d02f-bc31a9e317b4"
      },
      "execution_count": 213,
      "outputs": [
        {
          "output_type": "stream",
          "name": "stderr",
          "text": [
            "WARNING:tensorflow:Detecting that an object or model or tf.train.Checkpoint is being deleted with unrestored values. See the following logs for the specific values in question. To silence these warnings, use `status.expect_partial()`. See https://www.tensorflow.org/api_docs/python/tf/train/Checkpoint#restorefor details about the status object returned by the restore function.\n",
            "WARNING:tensorflow:Value in checkpoint could not be found in the restored object: (root).optimizer._variables.1\n",
            "WARNING:tensorflow:Value in checkpoint could not be found in the restored object: (root).optimizer._variables.2\n",
            "WARNING:tensorflow:Value in checkpoint could not be found in the restored object: (root).optimizer._variables.3\n",
            "WARNING:tensorflow:Value in checkpoint could not be found in the restored object: (root).optimizer._variables.4\n",
            "WARNING:tensorflow:Value in checkpoint could not be found in the restored object: (root).optimizer._variables.5\n",
            "WARNING:tensorflow:Value in checkpoint could not be found in the restored object: (root).optimizer._variables.6\n",
            "WARNING:tensorflow:Value in checkpoint could not be found in the restored object: (root).optimizer._variables.7\n",
            "WARNING:tensorflow:Value in checkpoint could not be found in the restored object: (root).optimizer._variables.8\n",
            "WARNING:tensorflow:Value in checkpoint could not be found in the restored object: (root).optimizer._variables.9\n",
            "WARNING:tensorflow:Value in checkpoint could not be found in the restored object: (root).optimizer._variables.10\n",
            "WARNING:tensorflow:Value in checkpoint could not be found in the restored object: (root).optimizer._variables.11\n",
            "WARNING:tensorflow:Value in checkpoint could not be found in the restored object: (root).optimizer._variables.12\n",
            "WARNING:tensorflow:Detecting that an object or model or tf.train.Checkpoint is being deleted with unrestored values. See the following logs for the specific values in question. To silence these warnings, use `status.expect_partial()`. See https://www.tensorflow.org/api_docs/python/tf/train/Checkpoint#restorefor details about the status object returned by the restore function.\n",
            "WARNING:tensorflow:Value in checkpoint could not be found in the restored object: (root).optimizer._variables.1\n",
            "WARNING:tensorflow:Value in checkpoint could not be found in the restored object: (root).optimizer._variables.2\n",
            "WARNING:tensorflow:Value in checkpoint could not be found in the restored object: (root).optimizer._variables.3\n",
            "WARNING:tensorflow:Value in checkpoint could not be found in the restored object: (root).optimizer._variables.4\n",
            "WARNING:tensorflow:Value in checkpoint could not be found in the restored object: (root).optimizer._variables.5\n",
            "WARNING:tensorflow:Value in checkpoint could not be found in the restored object: (root).optimizer._variables.6\n",
            "WARNING:tensorflow:Value in checkpoint could not be found in the restored object: (root).optimizer._variables.7\n",
            "WARNING:tensorflow:Value in checkpoint could not be found in the restored object: (root).optimizer._variables.8\n",
            "WARNING:tensorflow:Value in checkpoint could not be found in the restored object: (root).optimizer._variables.9\n",
            "WARNING:tensorflow:Value in checkpoint could not be found in the restored object: (root).optimizer._variables.10\n",
            "WARNING:tensorflow:Value in checkpoint could not be found in the restored object: (root).optimizer._variables.11\n",
            "WARNING:tensorflow:Value in checkpoint could not be found in the restored object: (root).optimizer._variables.12\n"
          ]
        },
        {
          "output_type": "execute_result",
          "data": {
            "image/png": "[encoded data removed]",
            "text/plain": [
              "<IPython.core.display.Image object>"
            ]
          },
          "metadata": {},
          "execution_count": 213
        }
      ]
    },
    {
      "cell_type": "markdown",
      "metadata": {
        "id": "WeKDkBKwLZJQ"
      },
      "source": [
        "## Find the values of the hyperparameters for the top trials"
      ]
    },
    {
      "cell_type": "code",
      "execution_count": 214,
      "metadata": {
        "id": "bV88D3eOLZJQ"
      },
      "outputs": [],
      "source": [
        "best_hps = tuner.get_best_hyperparameters(2)"
      ]
    },
    {
      "cell_type": "code",
      "execution_count": 215,
      "metadata": {
        "scrolled": true,
        "id": "uyli2Ub8LZJQ",
        "colab": {
          "base_uri": "https://localhost:8080/"
        },
        "outputId": "0feec419-a1df-4332-b287-39ddab63cbab"
      },
      "outputs": [
        {
          "output_type": "stream",
          "name": "stdout",
          "text": [
            "Best hyper parameter values:\n",
            "{'dense_1': 24,\n",
            " 'dense_2': 16,\n",
            " 'dropout_1': 0.0,\n",
            " 'dropout_2': 0.0,\n",
            " 'learning_rate': 0.0031847603347820415,\n",
            " 'tuner/bracket': 0,\n",
            " 'tuner/epochs': 10,\n",
            " 'tuner/initial_epoch': 0,\n",
            " 'tuner/round': 0}\n"
          ]
        }
      ],
      "source": [
        "print(\"Best hyper parameter values:\")\n",
        "pprint( best_hps[0].values )\n",
        "\n"
      ]
    },
    {
      "cell_type": "code",
      "source": [
        "print(\"Second Best hyper parameter values:\")\n",
        "pprint( best_hps[1].values )\n"
      ],
      "metadata": {
        "id": "FsOSGy5nBPMF",
        "outputId": "f7f53fe3-a1ba-49bd-aa42-706fb06775c2",
        "colab": {
          "base_uri": "https://localhost:8080/"
        }
      },
      "execution_count": 216,
      "outputs": [
        {
          "output_type": "stream",
          "name": "stdout",
          "text": [
            "Second Best hyper parameter values:\n",
            "{'dense_1': 24,\n",
            " 'dense_2': 16,\n",
            " 'dropout_1': 0.3,\n",
            " 'dropout_2': 0.0,\n",
            " 'learning_rate': 0.0005095016426245528,\n",
            " 'tuner/bracket': 2,\n",
            " 'tuner/epochs': 10,\n",
            " 'tuner/initial_epoch': 4,\n",
            " 'tuner/round': 2,\n",
            " 'tuner/trial_id': '0012'}\n"
          ]
        }
      ]
    },
    {
      "cell_type": "code",
      "source": [
        "print(\"Best hyper parameter values:\")\n",
        "best_hps[0].values\n",
        "\n"
      ],
      "metadata": {
        "colab": {
          "base_uri": "https://localhost:8080/"
        },
        "id": "6-L1iuRasZgo",
        "outputId": "6fcbdc82-99f2-4344-cc65-898840584a73"
      },
      "execution_count": 217,
      "outputs": [
        {
          "output_type": "stream",
          "name": "stdout",
          "text": [
            "Best hyper parameter values:\n"
          ]
        },
        {
          "output_type": "execute_result",
          "data": {
            "text/plain": [
              "{'dropout_1': 0.0,\n",
              " 'dropout_2': 0.0,\n",
              " 'dense_1': 24,\n",
              " 'dense_2': 16,\n",
              " 'learning_rate': 0.0031847603347820415,\n",
              " 'tuner/epochs': 10,\n",
              " 'tuner/initial_epoch': 0,\n",
              " 'tuner/bracket': 0,\n",
              " 'tuner/round': 0}"
            ]
          },
          "metadata": {},
          "execution_count": 217
        }
      ]
    },
    {
      "cell_type": "code",
      "source": [
        "print(\"Second Best hyper parameter values:\")\n",
        "best_hps[1].values\n"
      ],
      "metadata": {
        "id": "M-ykFqP-BZ2L",
        "outputId": "72f6bd7c-38e6-46f0-a653-8db63a84ccf0",
        "colab": {
          "base_uri": "https://localhost:8080/"
        }
      },
      "execution_count": 218,
      "outputs": [
        {
          "output_type": "stream",
          "name": "stdout",
          "text": [
            "Second Best hyper parameter values:\n"
          ]
        },
        {
          "output_type": "execute_result",
          "data": {
            "text/plain": [
              "{'dropout_1': 0.3,\n",
              " 'dropout_2': 0.0,\n",
              " 'dense_1': 24,\n",
              " 'dense_2': 16,\n",
              " 'learning_rate': 0.0005095016426245528,\n",
              " 'tuner/epochs': 10,\n",
              " 'tuner/initial_epoch': 4,\n",
              " 'tuner/bracket': 2,\n",
              " 'tuner/round': 2,\n",
              " 'tuner/trial_id': '0012'}"
            ]
          },
          "metadata": {},
          "execution_count": 218
        }
      ]
    },
    {
      "cell_type": "code",
      "source": [
        "tuner.results_summary(num_trials=2) "
      ],
      "metadata": {
        "colab": {
          "base_uri": "https://localhost:8080/"
        },
        "id": "90P-yfpcsgUp",
        "outputId": "4c815ccb-b01f-491f-a34a-381ac2a674fb"
      },
      "execution_count": 219,
      "outputs": [
        {
          "output_type": "stream",
          "name": "stdout",
          "text": [
            "Results summary\n",
            "Results in keras_tuner_dir/dnn_keras_tuner_demo\n",
            "Showing 2 best trials\n",
            "Objective(name=\"val_accuracy\", direction=\"max\")\n",
            "\n",
            "Trial 0026 summary\n",
            "Hyperparameters:\n",
            "dropout_1: 0.0\n",
            "dropout_2: 0.0\n",
            "dense_1: 24\n",
            "dense_2: 16\n",
            "learning_rate: 0.0031847603347820415\n",
            "tuner/epochs: 10\n",
            "tuner/initial_epoch: 0\n",
            "tuner/bracket: 0\n",
            "tuner/round: 0\n",
            "Score: 0.9636666774749756\n",
            "\n",
            "Trial 0016 summary\n",
            "Hyperparameters:\n",
            "dropout_1: 0.3\n",
            "dropout_2: 0.0\n",
            "dense_1: 24\n",
            "dense_2: 16\n",
            "learning_rate: 0.0005095016426245528\n",
            "tuner/epochs: 10\n",
            "tuner/initial_epoch: 4\n",
            "tuner/bracket: 2\n",
            "tuner/round: 2\n",
            "tuner/trial_id: 0012\n",
            "Score: 0.9480000138282776\n"
          ]
        }
      ]
    },
    {
      "cell_type": "code",
      "source": [
        "historyX = best_model.fit(X_train, y_train, epochs=n_epochs, batch_size=batch_size, validation_data=(X_valid, y_valid), shuffle=True, callbacks=callbacks)"
      ],
      "metadata": {
        "colab": {
          "base_uri": "https://localhost:8080/"
        },
        "id": "h-j17bDAsjLI",
        "outputId": "ef45b1f8-3a82-460d-a46f-533ac20044bd"
      },
      "execution_count": 220,
      "outputs": [
        {
          "output_type": "stream",
          "name": "stdout",
          "text": [
            "Epoch 1/20\n",
            "1080/1080 [==============================] - 7s 5ms/step - loss: 0.0962 - accuracy: 0.9698 - val_loss: 0.1399 - val_accuracy: 0.9590\n",
            "Epoch 2/20\n",
            "1080/1080 [==============================] - 8s 7ms/step - loss: 0.0898 - accuracy: 0.9708 - val_loss: 0.1359 - val_accuracy: 0.9623\n",
            "Epoch 3/20\n",
            "1080/1080 [==============================] - 8s 7ms/step - loss: 0.0859 - accuracy: 0.9722 - val_loss: 0.1477 - val_accuracy: 0.9570\n",
            "Epoch 4/20\n",
            "1080/1080 [==============================] - 7s 6ms/step - loss: 0.0814 - accuracy: 0.9741 - val_loss: 0.1500 - val_accuracy: 0.9567\n"
          ]
        }
      ]
    },
    {
      "cell_type": "code",
      "source": [
        "_= plot_training( historyX )"
      ],
      "metadata": {
        "colab": {
          "base_uri": "https://localhost:8080/",
          "height": 545
        },
        "id": "3LoCl-4_snGA",
        "outputId": "bc14ad81-eed2-41ba-86ef-ecb194242166"
      },
      "execution_count": 221,
      "outputs": [
        {
          "output_type": "display_data",
          "data": {
            "text/plain": [
              "<Figure size 900x600 with 4 Axes>"
            ],
            "image/png": "[encoded data removed]"
          },
          "metadata": {}
        }
      ]
    },
    {
      "cell_type": "code",
      "execution_count": 222,
      "metadata": {
        "colab": {
          "base_uri": "https://localhost:8080/"
        },
        "id": "vcQsPQ1lOGAQ",
        "outputId": "ae77fcee-ef8f-4448-a361-757b1fc69803"
      },
      "outputs": [
        {
          "output_type": "stream",
          "name": "stdout",
          "text": [
            "Done\n"
          ]
        }
      ],
      "source": [
        "print(\"Done\")"
      ]
    }
  ],
  "metadata": {
    "colab": {
      "name": "DNN_TensorFlow_example.ipynb",
      "provenance": [],
      "toc_visible": true
    },
    "kernelspec": {
      "display_name": "Python 3",
      "language": "python",
      "name": "python3"
    },
    "language_info": {
      "codemirror_mode": {
        "name": "ipython",
        "version": 3
      },
      "file_extension": ".py",
      "mimetype": "text/x-python",
      "name": "python",
      "nbconvert_exporter": "python",
      "pygments_lexer": "ipython3",
      "version": "3.7.4"
    },
    "toc": {
      "base_numbering": 1,
      "nav_menu": {},
      "number_sections": true,
      "sideBar": true,
      "skip_h1_title": false,
      "title_cell": "Table of Contents",
      "title_sidebar": "Contents",
      "toc_cell": false,
      "toc_position": {},
      "toc_section_display": true,
      "toc_window_display": false
    }
  },
  "nbformat": 4,
  "nbformat_minor": 0
}